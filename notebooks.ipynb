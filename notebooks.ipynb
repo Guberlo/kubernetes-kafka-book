{
 "cells": [
  {
   "cell_type": "markdown",
   "metadata": {},
   "source": [
    "# Interactive setup\n",
    "\n",
    "```{image} images/kafka-kubernetes.png\n",
    ":alt: kubernetes\n",
    ":width: 400px\n",
    ":align: center\n",
    "```  "
   ]
  },
  {
   "source": [
    "## Requirements:\n",
    "- Install [docker](https://docs.docker.com/engine/install/)\n",
    "- Install [kubectl](https://kubernetes.io/docs/tasks/tools/)\n",
    "- Install [minikube](https://minikube.sigs.k8s.io/docs/start/)"
   ],
   "cell_type": "markdown",
   "metadata": {}
  },
  {
   "source": [
    "## Steps\n",
    "- Enable kubernetes on Docker Desktop (if you are using it)\n",
    "- Start minikube to setup a local kubernetes cluster:"
   ],
   "cell_type": "markdown",
   "metadata": {}
  },
  {
   "cell_type": "code",
   "execution_count": null,
   "metadata": {},
   "outputs": [],
   "source": [
    "%%bash\n",
    "minikube start --memory=4096 # 2GB default memory isn't always enough"
   ]
  },
  {
   "source": [
    "- Create a new kubernetes namespace:"
   ],
   "cell_type": "markdown",
   "metadata": {}
  },
  {
   "cell_type": "code",
   "execution_count": null,
   "metadata": {},
   "outputs": [],
   "source": [
    "%%bash\n",
    "kubectl create namespace kafka # Created for a good practice"
   ]
  },
  {
   "source": [
    "- Create a Kafka cluster on Kubernetes using strimzi image:"
   ],
   "cell_type": "markdown",
   "metadata": {}
  },
  {
   "cell_type": "code",
   "execution_count": null,
   "metadata": {},
   "outputs": [],
   "source": [
    "%%bash\n",
    "kubectl create -f https://strimzi.io/install/latest?namespace=kafka -n kafka"
   ]
  },
  {
   "source": [
    "- Set up a Kafka cluster with ephemeral storage (in production we'd like to have persistent):"
   ],
   "cell_type": "markdown",
   "metadata": {}
  },
  {
   "cell_type": "code",
   "execution_count": null,
   "metadata": {},
   "outputs": [],
   "source": [
    "%%bash\n",
    "# One node for Kafka and one for Zookeeper  \n",
    "kubectl apply -f https://strimzi.io/examples/latest/kafka/kafka-ephemeral-single.yaml -n kafka"
   ]
  },
  {
   "source": [
    "- Wait for Kubernetes to start all the pods:"
   ],
   "cell_type": "markdown",
   "metadata": {}
  },
  {
   "cell_type": "code",
   "execution_count": null,
   "metadata": {},
   "outputs": [],
   "source": [
    "%%bash\n",
    "kubectl wait kafka/my-cluster --for=condition=Ready --timeout=300s -n kafka"
   ]
  },
  {
   "source": [
    "- Create topics:"
   ],
   "cell_type": "markdown",
   "metadata": {}
  },
  {
   "cell_type": "code",
   "execution_count": null,
   "metadata": {},
   "outputs": [],
   "source": [
    "%%bash\n",
    "kubectl apply -f kafka/kafka-topics.yml -n kafka"
   ]
  },
  {
   "source": [
    "- Check the existing topics:"
   ],
   "cell_type": "markdown",
   "metadata": {}
  },
  {
   "cell_type": "code",
   "execution_count": null,
   "metadata": {},
   "outputs": [],
   "source": [
    "%%bash\n",
    "# Create a new pod which will list every topic in our cluster\n",
    "kubectl -n kafka run kafka-topics -it --image=quay.io/strimzi/kafka:0.24.0-kafka-2.8.0 --rm=true --restart=Never -- bin/kafka-topics.sh --list --bootstrap-server my-cluster-kafka-bootstrap:9092"
   ]
  },
  {
   "source": [
    "## Let's test everything running a producer and a consumer:"
   ],
   "cell_type": "markdown",
   "metadata": {}
  },
  {
   "cell_type": "code",
   "execution_count": null,
   "metadata": {},
   "outputs": [],
   "source": [
    "%%bash \n",
    "# Create a new pod running a Kafka producer, which sends messages to the 'advertisers' topic\n",
    "kubectl -n kafka run kafka-producer -it --image=quay.io/strimzi/kafka:0.24.0-kafka-2.8.0 --rm=true --restart=Never -- bin/kafka-console-producer.sh --broker-list my-cluster-kafka-bootstrap:9092 --topic advertisers"
   ]
  },
  {
   "cell_type": "code",
   "execution_count": null,
   "metadata": {},
   "outputs": [],
   "source": [
    "%%bash\n",
    "# Create a new pod running a Kafka consumer, which consumes messages from the 'advertisers' topic\n",
    "kubectl -n kafka run kafka-consumer -it --image=quay.io/strimzi/kafka:0.24.0-kafka-2.8.0 --rm=true --restart=Never -- bin/kafka-console-consumer.sh --bootstrap-server my-cluster-kafka-bootstrap:9092 --topic advertisers --from-beginning"
   ]
  }
 ],
 "metadata": {
  "kernelspec": {
   "display_name": "Python 3",
   "language": "python",
   "name": "python3"
  },
  "language_info": {
   "codemirror_mode": {
    "name": "ipython",
    "version": 3
   },
   "file_extension": ".py",
   "mimetype": "text/x-python",
   "name": "python",
   "nbconvert_exporter": "python",
   "pygments_lexer": "ipython3",
   "version": "3.8.0"
  },
  "widgets": {
   "application/vnd.jupyter.widget-state+json": {
    "state": {},
    "version_major": 2,
    "version_minor": 0
   }
  }
 },
 "nbformat": 4,
 "nbformat_minor": 4
}